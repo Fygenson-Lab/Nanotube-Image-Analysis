{
 "cells": [
  {
   "cell_type": "code",
   "execution_count": 68,
   "metadata": {},
   "outputs": [],
   "source": [
    "import numpy as np\n",
    "import matplotlib.pyplot as plt\n",
    "import pandas as pd\n",
    "from sqlalchemy.engine import URL\n",
    "from sqlalchemy import create_engine\n",
    "import sqlalchemy as sa\n",
    "import pyodbc"
   ]
  },
  {
   "cell_type": "code",
   "execution_count": 69,
   "metadata": {},
   "outputs": [],
   "source": [
    "conn_str = (\n",
    "    r'driver={SQL Server};'\n",
    "    r'server=4C4157STUDIO\\SQLEXPRESS;' #server name\n",
    "    r'database=FygensonLabData;' #database name\n",
    "    r'trusted_connection=yes;'\n",
    "    )\n",
    "\n",
    "#using SQLAlchemy to avoid a UserWarning\n",
    "connection_url = URL.create(\"mssql+pyodbc\", query={\"odbc_connect\": conn_str})\n",
    "engine = create_engine(connection_url) #create SQLAlchemy engine object\n",
    "\n",
    "cnxn = pyodbc.connect(conn_str)\n",
    "cursor = cnxn.cursor()\n",
    "\n",
    "\n",
    "def run_quary(quary_str):\n",
    "    with engine.begin() as conn:\n",
    "        return pd.read_sql_query(sa.text(quary_str), conn)\n",
    "    \n",
    "def edit_database(quary_str):\n",
    "    cursor.execute(quary_str)\n",
    "    cnxn.commit()"
   ]
  },
  {
   "cell_type": "code",
   "execution_count": 83,
   "metadata": {},
   "outputs": [],
   "source": [
    "#import the tables we need\n",
    "seed_sample_df = run_quary('Select * From seed_sample').set_index('seed_sample_id')\n",
    "seed_type_df = run_quary('Select * From seed_type').set_index('seed_type_id')"
   ]
  },
  {
   "cell_type": "code",
   "execution_count": 84,
   "metadata": {},
   "outputs": [],
   "source": [
    "for index, seed in seed_sample_df.iterrows(): \n",
    "    molar_mass = seed_type_df.loc[seed['seed_type_id']]['molar_mass'] #retrieve the molar mass of each seed sample usenig the seed type id\n",
    "    dilution_factors = np.array(run_quary(f'Select dilution_factor from seed_concentration where seed_sample_id = {index}')).flatten() #get the dilution factors for this seed sample\n",
    "    raw_concentrations = np.array(run_quary(f'Select raw_concentration_nguL from seed_concentration where seed_sample_id = {index}')).flatten() #get the concentration measurements for this seed sample\n",
    "    concentrations_nguL = raw_concentrations/dilution_factors #calculate actual mass concentration\n",
    "    concentrations_nM = concentrations_nguL/molar_mass #convert from mass concentration to molarity\n",
    "\n",
    "    edit_database('Update seed_sample Set molarity_avg = {} Where seed_sample_id = {};'.format(np.mean(concentrations_nM), index)) #update the database with the mean and std\n",
    "    edit_database('Update seed_sample Set molarity_std = {} where seed_sample_id = {};'.format(np.std(concentrations_nM), index))\n",
    "\n",
    "seed_sample_df = run_quary('Select * From seed_sample').set_index('seed_sample_id') #update our dataframe object since we updated the database"
   ]
  },
  {
   "cell_type": "code",
   "execution_count": 88,
   "metadata": {},
   "outputs": [
    {
     "data": {
      "text/plain": [
       "Text(0.5, 1.0, 'Concentration of One Sided Seed in Tile Anneal')"
      ]
     },
     "execution_count": 88,
     "metadata": {},
     "output_type": "execute_result"
    },
    {
     "data": {
      "image/png": "[encoded data removed]",
      "text/plain": [
       "<Figure size 432x288 with 1 Axes>"
      ]
     },
     "metadata": {
      "needs_background": "light"
     },
     "output_type": "display_data"
    }
   ],
   "source": [
    "desired_seed_samples = [2022102500, 2022092800, 2022092801, 2022092802] #list of seed samples I want to include in this plot (make sure this is in order)\n",
    "seed_added = [2,2,2,2]\n",
    "means = [seed_sample_df.loc[desired_seed_samples[i]]['molarity_avg'] * (seed_added[i]/25) for i in range(len(desired_seed_samples))]\n",
    "stds = [seed_sample_df.loc[desired_seed_samples[i]]['molarity_std'] * (seed_added[i]/25) for i in range(len(desired_seed_samples))]\n",
    "plt.bar(['p3024', 's768', 's576', 's384'], means, yerr = stds)\n",
    "plt.ylabel('Concentration, nM')\n",
    "plt.title('Concentration of One Sided Seed in Tile Anneal')\n"
   ]
  },
  {
   "cell_type": "code",
   "execution_count": null,
   "metadata": {},
   "outputs": [],
   "source": []
  }
 ],
 "metadata": {
  "kernelspec": {
   "display_name": "Python 3.9.12 ('base')",
   "language": "python",
   "name": "python3"
  },
  "language_info": {
   "codemirror_mode": {
    "name": "ipython",
    "version": 3
   },
   "file_extension": ".py",
   "mimetype": "text/x-python",
   "name": "python",
   "nbconvert_exporter": "python",
   "pygments_lexer": "ipython3",
   "version": "3.9.12"
  },
  "orig_nbformat": 4,
  "vscode": {
   "interpreter": {
    "hash": "3d3af293e0fc9a9df57654d6f7a636bed1b3423e878a9389075cb45458b282c4"
   }
  }
 },
 "nbformat": 4,
 "nbformat_minor": 2
}
